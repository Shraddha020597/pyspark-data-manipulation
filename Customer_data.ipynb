{
  "nbformat": 4,
  "nbformat_minor": 0,
  "metadata": {
    "colab": {
      "provenance": []
    },
    "kernelspec": {
      "name": "python3",
      "display_name": "Python 3"
    },
    "language_info": {
      "name": "python"
    }
  },
  "cells": [
    {
      "cell_type": "code",
      "source": [
        "!pip install pyspark"
      ],
      "metadata": {
        "colab": {
          "base_uri": "https://localhost:8080/"
        },
        "id": "n8ehFYRtGFt2",
        "outputId": "64547e7a-2f8e-462d-f5de-041857960082"
      },
      "execution_count": null,
      "outputs": [
        {
          "output_type": "stream",
          "name": "stdout",
          "text": [
            "Collecting pyspark\n",
            "  Downloading pyspark-3.4.1.tar.gz (310.8 MB)\n",
            "\u001b[2K     \u001b[90m━━━━━━━━━━━━━━━━━━━━━━━━━━━━━━━━━━━━━━━\u001b[0m \u001b[32m310.8/310.8 MB\u001b[0m \u001b[31m4.6 MB/s\u001b[0m eta \u001b[36m0:00:00\u001b[0m\n",
            "\u001b[?25h  Preparing metadata (setup.py) ... \u001b[?25l\u001b[?25hdone\n",
            "Requirement already satisfied: py4j==0.10.9.7 in /usr/local/lib/python3.10/dist-packages (from pyspark) (0.10.9.7)\n",
            "Building wheels for collected packages: pyspark\n",
            "  Building wheel for pyspark (setup.py) ... \u001b[?25l\u001b[?25hdone\n",
            "  Created wheel for pyspark: filename=pyspark-3.4.1-py2.py3-none-any.whl size=311285387 sha256=a2cbd081a1a6e68e40e566f971f4f3ab79722586be9a2fa85b34307fb82cb92e\n",
            "  Stored in directory: /root/.cache/pip/wheels/0d/77/a3/ff2f74cc9ab41f8f594dabf0579c2a7c6de920d584206e0834\n",
            "Successfully built pyspark\n",
            "Installing collected packages: pyspark\n",
            "Successfully installed pyspark-3.4.1\n"
          ]
        }
      ]
    },
    {
      "cell_type": "code",
      "source": [
        "from pyspark.sql import SparkSession\n",
        "\n",
        "spark = SparkSession.builder.master(\"local[*]\").getOrCreate()"
      ],
      "metadata": {
        "id": "aUuKUzq7GYOL"
      },
      "execution_count": null,
      "outputs": []
    },
    {
      "cell_type": "code",
      "source": [
        "!ls -ltr"
      ],
      "metadata": {
        "colab": {
          "base_uri": "https://localhost:8080/"
        },
        "id": "hHbCZ4_cGdWt",
        "outputId": "ec4ff13d-28bb-46f5-cb2a-28bc262ba17c"
      },
      "execution_count": null,
      "outputs": [
        {
          "output_type": "stream",
          "name": "stdout",
          "text": [
            "total 4\n",
            "drwxr-xr-x 1 root root 4096 Sep 14 13:23 sample_data\n"
          ]
        }
      ]
    },
    {
      "cell_type": "code",
      "source": [
        "pwd"
      ],
      "metadata": {
        "colab": {
          "base_uri": "https://localhost:8080/",
          "height": 35
        },
        "id": "NS7prGRGGjiV",
        "outputId": "9169ca9d-ead1-4a19-8ef1-991b769f2dee"
      },
      "execution_count": null,
      "outputs": [
        {
          "output_type": "execute_result",
          "data": {
            "text/plain": [
              "'/content'"
            ],
            "application/vnd.google.colaboratory.intrinsic+json": {
              "type": "string"
            }
          },
          "metadata": {},
          "execution_count": 5
        }
      ]
    },
    {
      "cell_type": "code",
      "source": [
        "!wget https://jacobceles.github.io/knowledge_repo/colab_and_pyspark/cars.csv"
      ],
      "metadata": {
        "colab": {
          "base_uri": "https://localhost:8080/"
        },
        "id": "yxoD4x78GmqX",
        "outputId": "3bd5bf08-b17a-4220-df11-5cdc1ff5a882"
      },
      "execution_count": null,
      "outputs": [
        {
          "output_type": "stream",
          "name": "stdout",
          "text": [
            "--2023-09-17 21:47:43--  https://jacobceles.github.io/knowledge_repo/colab_and_pyspark/cars.csv\n",
            "Resolving jacobceles.github.io (jacobceles.github.io)... 185.199.108.153, 185.199.109.153, 185.199.110.153, ...\n",
            "Connecting to jacobceles.github.io (jacobceles.github.io)|185.199.108.153|:443... connected.\n",
            "HTTP request sent, awaiting response... 301 Moved Permanently\n",
            "Location: https://jacobcelestine.com/knowledge_repo/colab_and_pyspark/cars.csv [following]\n",
            "--2023-09-17 21:47:43--  https://jacobcelestine.com/knowledge_repo/colab_and_pyspark/cars.csv\n",
            "Resolving jacobcelestine.com (jacobcelestine.com)... 185.199.108.153, 185.199.109.153, 185.199.110.153, ...\n",
            "Connecting to jacobcelestine.com (jacobcelestine.com)|185.199.108.153|:443... connected.\n",
            "HTTP request sent, awaiting response... 200 OK\n",
            "Length: 22608 (22K) [text/csv]\n",
            "Saving to: ‘cars.csv’\n",
            "\n",
            "\rcars.csv              0%[                    ]       0  --.-KB/s               \rcars.csv            100%[===================>]  22.08K  --.-KB/s    in 0s      \n",
            "\n",
            "2023-09-17 21:47:43 (118 MB/s) - ‘cars.csv’ saved [22608/22608]\n",
            "\n"
          ]
        }
      ]
    },
    {
      "cell_type": "code",
      "source": [
        "!cat cars.csv"
      ],
      "metadata": {
        "id": "LCwBuEDLHRlM"
      },
      "execution_count": null,
      "outputs": []
    },
    {
      "cell_type": "code",
      "source": [
        "df=spark.read.csv(\"cars.csv\",sep=\";\", header=\"True\")\n",
        "df.show(5)"
      ],
      "metadata": {
        "colab": {
          "base_uri": "https://localhost:8080/"
        },
        "id": "C_uSoN4zH-8k",
        "outputId": "b572d980-b550-4b2e-d7d4-f5feb20ab340"
      },
      "execution_count": null,
      "outputs": [
        {
          "output_type": "stream",
          "name": "stdout",
          "text": [
            "+--------------------+----+---------+------------+----------+------+------------+-----+------+\n",
            "|                 Car| MPG|Cylinders|Displacement|Horsepower|Weight|Acceleration|Model|Origin|\n",
            "+--------------------+----+---------+------------+----------+------+------------+-----+------+\n",
            "|Chevrolet Chevell...|18.0|        8|       307.0|     130.0| 3504.|        12.0|   70|    US|\n",
            "|   Buick Skylark 320|15.0|        8|       350.0|     165.0| 3693.|        11.5|   70|    US|\n",
            "|  Plymouth Satellite|18.0|        8|       318.0|     150.0| 3436.|        11.0|   70|    US|\n",
            "|       AMC Rebel SST|16.0|        8|       304.0|     150.0| 3433.|        12.0|   70|    US|\n",
            "|         Ford Torino|17.0|        8|       302.0|     140.0| 3449.|        10.5|   70|    US|\n",
            "+--------------------+----+---------+------------+----------+------+------------+-----+------+\n",
            "only showing top 5 rows\n",
            "\n"
          ]
        }
      ]
    },
    {
      "cell_type": "code",
      "source": [
        "!wget https://raw.githubusercontent.com/pathwaytipsorg/gcp-data-engineering/master/dproc/data/customer_data.csv"
      ],
      "metadata": {
        "colab": {
          "base_uri": "https://localhost:8080/"
        },
        "id": "2FFuD17zJSLf",
        "outputId": "082f066a-59dc-40b1-ad48-cb2933635d5c"
      },
      "execution_count": null,
      "outputs": [
        {
          "output_type": "stream",
          "name": "stdout",
          "text": [
            "--2023-09-17 22:01:33--  https://raw.githubusercontent.com/pathwaytipsorg/gcp-data-engineering/master/dproc/data/customer_data.csv\n",
            "Resolving raw.githubusercontent.com (raw.githubusercontent.com)... 185.199.108.133, 185.199.109.133, 185.199.110.133, ...\n",
            "Connecting to raw.githubusercontent.com (raw.githubusercontent.com)|185.199.108.133|:443... connected.\n",
            "HTTP request sent, awaiting response... 200 OK\n",
            "Length: 4319 (4.2K) [text/plain]\n",
            "Saving to: ‘customer_data.csv’\n",
            "\n",
            "\rcustomer_data.csv     0%[                    ]       0  --.-KB/s               \rcustomer_data.csv   100%[===================>]   4.22K  --.-KB/s    in 0s      \n",
            "\n",
            "2023-09-17 22:01:33 (15.5 MB/s) - ‘customer_data.csv’ saved [4319/4319]\n",
            "\n"
          ]
        }
      ]
    },
    {
      "cell_type": "code",
      "source": [
        "!cat customer_data.csv"
      ],
      "metadata": {
        "id": "lhVQQqAJKT9H"
      },
      "execution_count": null,
      "outputs": []
    },
    {
      "cell_type": "code",
      "source": [
        "df = spark.read.csv(\"customer_data.csv\",header=True,inferSchema=True)\n",
        "df.show(6)"
      ],
      "metadata": {
        "colab": {
          "base_uri": "https://localhost:8080/"
        },
        "id": "V7hrkBtwKfcB",
        "outputId": "30e8e2ef-ca52-475f-eea8-fee2e80cdf62"
      },
      "execution_count": null,
      "outputs": [
        {
          "output_type": "stream",
          "name": "stdout",
          "text": [
            "+-----------+----------+---------+--------------------+------------+----------+------+-------------+-------------+\n",
            "|customer_id|first_name|last_name|               email|phone_number|       dob|gender|     location|date_of_entry|\n",
            "+-----------+----------+---------+--------------------+------------+----------+------+-------------+-------------+\n",
            "|          1|      Jane|      Doe|jane.doe@example.com|    555-1234|1990-01-01|Female|     New York|   2022-01-01|\n",
            "|          1|      Jane|      Doe|jane.doe@example.com|    555-1234|1990-01-01|Female|       Boston|   2022-02-01|\n",
            "|          1|      Jane|      Doe|jane.doe@example.com|    555-5678|1990-01-01|Female|       Boston|   2022-03-01|\n",
            "|          2|      John|      Doe|john.doe@example.com|    555-4321|1991-02-02|  Male|San Francisco|   2022-04-01|\n",
            "|          2|      John|      Doe|john.doe@example.com|    555-4321|1991-02-02|  Male|San Francisco|   2022-05-01|\n",
            "|          2|      John|      Doe|john.doe@example.com|    555-8765|1991-02-02|  Male|San Francisco|   2022-06-01|\n",
            "+-----------+----------+---------+--------------------+------------+----------+------+-------------+-------------+\n",
            "only showing top 6 rows\n",
            "\n"
          ]
        }
      ]
    },
    {
      "cell_type": "code",
      "source": [
        "df.select(\"first_name\").show()"
      ],
      "metadata": {
        "id": "Bs-_SJyLLc4c"
      },
      "execution_count": null,
      "outputs": []
    },
    {
      "cell_type": "code",
      "source": [
        "#\n",
        "from pyspark.sql.functions import col\n",
        "#df.select(col(\"first_name\")).show()\n",
        "#df.orderBy(col(\"first_name\").desc()).show()\n",
        "df.orderBy(col('date_of_entry').desc()).dropDuplicates(['customer_id']).show()"
      ],
      "metadata": {
        "id": "F5CKBQKcNh8N"
      },
      "execution_count": null,
      "outputs": []
    },
    {
      "cell_type": "code",
      "source": [
        "from pyspark.sql.window import Window\n",
        "from pyspark.sql.functions import col,row_number\n",
        "\n",
        "Wpart=Window.partitionBy('customer_id').orderBy(col('date_of_entry').desc())\n",
        "df_step1=df.withColumn('row_id',row_number().over(Wpart))\n",
        "df_step2=df_step1.filter(df_step1['row_id']==1)\n",
        "df_step2.show()"
      ],
      "metadata": {
        "colab": {
          "base_uri": "https://localhost:8080/"
        },
        "id": "xYz3R2gGQJaD",
        "outputId": "d4ad75fd-729b-4392-833c-b4e620a24556"
      },
      "execution_count": null,
      "outputs": [
        {
          "output_type": "stream",
          "name": "stdout",
          "text": [
            "+-----------+----------+----------+--------------------+--------------------+----------+------+--------------------+-------------+------+\n",
            "|customer_id|first_name| last_name|               email|        phone_number|       dob|gender|            location|date_of_entry|row_id|\n",
            "+-----------+----------+----------+--------------------+--------------------+----------+------+--------------------+-------------+------+\n",
            "|          1|      Jane|       Doe|jane.doe@example.com|            555-5678|1990-01-01|Female|              Boston|   2022-03-01|     1|\n",
            "|          2|      John|       Doe|john.doe@example.com|            555-8765|1991-02-02|  Male|       San Francisco|   2022-06-01|     1|\n",
            "|          3|   Michael|     Jones| pmendez@example.org|        883.178.1278|1985-09-14|  Male|315 Jensen Square...|   2023-01-04|     1|\n",
            "|          4|     Marie|   Robbins| david47@example.com| +1-609-590-0742x350|1976-03-30|Female|44816 Stewart Pin...|   2022-07-20|     1|\n",
            "|          5|     Susan|Richardson|  chad92@example.com|        694.288.3642|1985-08-19|Female|2438 Katie Plaza ...|   2022-12-08|     1|\n",
            "|          6|     Sarah|  Williams|kristin99@example...|+1-480-129-7036x0...|1989-05-14|  Male|1373 Ethan Flats ...|   2022-12-02|     1|\n",
            "|          7|   Richard|     Ortiz|juanmayer@example...|       (387)352-6296|1994-07-10|Female|24665 Elizabeth B...|   2022-05-07|     1|\n",
            "|          8|   Jeffrey|      Ward|william24@example...|       (243)882-5287|1961-11-11|  Male|38789 John Inlet ...|   2022-09-13|     1|\n",
            "|          9|  Kimberly|    Miller|heidicastillo@exa...|  786-594-7352x37944|1941-05-20|  Male|935 Green Port La...|   2022-10-08|     1|\n",
            "|         10|   Timothy|   Collins|stevenanderson@ex...|  405-030-4303x94572|1950-09-20|  Male|Unit 4239 Box 696...|   2022-08-13|     1|\n",
            "|         11|    Joseph|      Beck| donna86@example.org| +1-973-335-5159x216|1986-12-27|Female|11273 Molina Aven...|   2022-07-24|     1|\n",
            "|         12|   Antonio|     Woods|   bdiaz@example.org|+1-383-463-6829x7257|1934-06-21|  Male|600 Bradley Path ...|   2023-03-10|     1|\n",
            "|         13|     Katie|   Blevins|dianamassey@examp...|          8864237228|1958-04-02|Female|78330 Thomas Lake...|   2023-04-28|     1|\n",
            "|         14|  Kimberly|   Edwards|michael50@example...|   325.167.6882x2560|1966-12-21|  Male|18431 Williams Ju...|   2023-03-13|     1|\n",
            "|         15|   Zachary|     Brown| pjacobs@example.com|        802.426.1280|1955-04-09|Female|5397 Barnes Estat...|   2022-08-24|     1|\n",
            "|         16|    George|     Haney| jason05@example.net|        574-536-9765|1989-07-20|  Male|86487 William Isl...|   2022-08-26|     1|\n",
            "|         17|       Ian|    Miller|jilledwards@examp...|     +1-480-644-9386|1995-10-03|Female|360 Melissa Key S...|   2023-04-27|     1|\n",
            "|         18|    Edward|  Mitchell|owinters@example.net| (528)529-9443x19266|1967-12-12|Female|USNS Ramirez FPO ...|   2023-02-16|     1|\n",
            "|         19|      Mary|      Hale|   jwood@example.com|   (390)491-5322x007|1961-06-15|Female|PSC 8786, Box 072...|   2022-09-03|     1|\n",
            "|         20|   Patrick|   Jackson|justin75@example.com|  455-602-4894x19462|2001-09-17|Female|888 Anita Forges ...|   2023-03-06|     1|\n",
            "+-----------+----------+----------+--------------------+--------------------+----------+------+--------------------+-------------+------+\n",
            "only showing top 20 rows\n",
            "\n"
          ]
        }
      ]
    },
    {
      "cell_type": "code",
      "source": [
        "from pyspark.sql.functions import col\n",
        "data = [(\"Product A\", 10, 50),\n",
        "        (\"Product B\", 15, 75),\n",
        "        (\"Product A\", 5, 60),\n",
        "        (\"Product C\", 8, 90),\n",
        "        (\"Product B\", 20, 100)]\n",
        "columns = [\"product\", \"quantity\", \"price\"]\n",
        "\n",
        "df = spark.createDataFrame(data,columns)\n",
        "\n",
        "# view & sql : assignment\n",
        "df = df.withColumn(\"revenue\", col(\"quantity\") * col(\"price\"))\n",
        "df.show()\n",
        "\n",
        "#df = df.groupBy(\"product\").agg(sum(\"revenue\").alias(\"total_revenue\"))\n",
        "#df.show()\n",
        "\n",
        "df = df.orderBy(col(\"total_revenue\").desc()).first()\n",
        "\n",
        "print(\"Top selling product: \",df[\"product\"])\n",
        "print(\"Total revenue: \",df[\"total_revenue\"])\"\"\""
      ],
      "metadata": {
        "id": "RAM_BAm0g4ZM"
      },
      "execution_count": null,
      "outputs": []
    }
  ]
}